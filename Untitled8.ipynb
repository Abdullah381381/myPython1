{
 "cells": [
  {
   "cell_type": "code",
   "execution_count": 2,
   "id": "22b634f9-8e91-462d-a371-50379324bb8a",
   "metadata": {},
   "outputs": [
    {
     "ename": "SyntaxError",
     "evalue": "invalid syntax (4200093371.py, line 19)",
     "output_type": "error",
     "traceback": [
      "\u001b[1;36m  Cell \u001b[1;32mIn[2], line 19\u001b[1;36m\u001b[0m\n\u001b[1;33m    knn_clf = KNeighborsClassifier(n_neighbors=3) knn_clf.fit(x_train, y_train)\u001b[0m\n\u001b[1;37m                                                  ^\u001b[0m\n\u001b[1;31mSyntaxError\u001b[0m\u001b[1;31m:\u001b[0m invalid syntax\n"
     ]
    }
   ],
   "source": [
    "In [3]: # Import necessary Libraries import numpy as np\n",
    "import matplotlib.pyplot as plt \n",
    "import seaborn as sns\n",
    "from sklearn import datasets\n",
    "from sklearn.model_selection import train_test_split\n",
    "from sklearn.tree import DecisionTreeClassifier\n",
    "from sklearn.neighbors import KNeighborsClassifier\n",
    "from sklearn.metrics import accuracy_score, confusion_matrix\n",
    "# Load Iris dataset\n",
    "iris\n",
    "datasets. load_iris ()\n",
    "X = iris.data[:, :2] # using only the first two features for visualization y= iris.target\n",
    "# Split dataset into training and testing sets\n",
    "X_train, x_test, y_train, y_test = train_test_split(x, y, test_size=0.3, random_state=42)\n",
    "# Decision Tree model\n",
    "dt_clf = DecisionTreeClassifier()\n",
    "dt_clf.fit(x_train, y_train)\n",
    "# Nearest-Neighbor model\n",
    "knn_clf = KNeighborsClassifier(n_neighbors=3) knn_clf.fit(x_train, y_train)\n",
    "# Predictions and evaluation for Decision Tree dt_predictions = dt_clf.predict(x_test)\n",
    "dt_accuracy = accuracy_score (y_test, dt_predictions) print (f\"Decision Tree Accuracy: {dt_accuracy: .2f}\")\n",
    "# Predictions and evaluation for Nearest-Neighbor knn_predictions = knn_clf.predict(x_test)\n",
    "knn_accuracy = accuracy_score (y_test, knn_predictions) print (f\"Nearest-Neighbor Accuracy: {knn_accuracy:.2f}\")\n",
    "# Function to plot decision boundaries\n",
    "def plot_decision_boundaries (x, y, model, title):\n",
    "x_min, x_max = x[:, 0].min() - 1, X[:, 0].max() + 1 y_min, y_max = x[:, 1].min() - 1, X[:, 1].max() + 1 xx, yy = np.meshgrid (np.arange(x_min, x_max, 0.1), np.arange(y_min, y_max, 0.1)) Z = model.predict(np.c_[xx.ravel(), yy.ravel()]) Z = Z.reshape(xx.shape)\n",
    "plt.figure(figsize=(8, 6))\n",
    "plt.contourf(xx, yy, Z, alpha=0.4)\n",
    "plt.scatter(X[:, 0], X[:, 1], c=y, s=20, edgecolor='k')\n",
    "plt.title(title)\n",
    "plt.xlabel('Feature 1')\n",
    "plt.ylabel('Feature 2')\n",
    "# Plot decision boundaries\n",
    "plot_decision_boundaries (X_train, y_train, dt_clf, \"Decision Tree Decision Boundaries\") plot_decision_boundaries (X_train, y_train, knn_clf, \"Nearest Neighbor Decision Boundaries\")\n",
    "# Function to plot confusion matrix\n",
    "def plot_confusion_matrix(y_true, y_pred, title):\n",
    "cm = confusion_matrix (y_true, y_pred)\n",
    "plt.figure(figsize=(6, 6))\n",
    "sns.heatmap(cm, annot=True, fmt=\"d\", cmap=\"Blues\")\n",
    "plt.title(title)\n",
    "plt.ylabel('Actual') plt.xlabel('Predicted')\n",
    "# Plot confusion matrices\n",
    "plot_confusion_matrix(y_test, dt_predictions, \"Decision Tree Confusion Matrix\") plot_confusion_matrix(y_test, knn_predictions, \"Nearest Neighbor Confusion Matrix\")\n",
    "plt.show()\n",
    "\n"
   ]
  },
  {
   "cell_type": "code",
   "execution_count": null,
   "id": "735d3a4d-eed9-4ba3-9f91-32c6d79d0fd8",
   "metadata": {},
   "outputs": [],
   "source": []
  }
 ],
 "metadata": {
  "kernelspec": {
   "display_name": "Python 3 (ipykernel)",
   "language": "python",
   "name": "python3"
  },
  "language_info": {
   "codemirror_mode": {
    "name": "ipython",
    "version": 3
   },
   "file_extension": ".py",
   "mimetype": "text/x-python",
   "name": "python",
   "nbconvert_exporter": "python",
   "pygments_lexer": "ipython3",
   "version": "3.11.5"
  }
 },
 "nbformat": 4,
 "nbformat_minor": 5
}
